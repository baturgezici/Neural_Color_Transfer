{
 "cells": [
  {
   "cell_type": "markdown",
   "metadata": {},
   "source": [
    "# Neural Color Transfer (Multi-Reference Style Transfer)"
   ]
  },
  {
   "cell_type": "markdown",
   "metadata": {},
   "source": [
    "### Library"
   ]
  },
  {
   "cell_type": "code",
   "execution_count": null,
   "metadata": {
    "collapsed": true
   },
   "outputs": [],
   "source": [
    "#Append 'src' direc to import modules from notebooks directory#\n",
    "##################################################\n",
    "import os,sys\n",
    "src_dir=os.path.join(os.getcwd(),ospardir)\n",
    "sys.path.append(src_dir)\n",
    "#################################################"
   ]
  },
  {
   "cell_type": "code",
   "execution_count": null,
   "metadata": {
    "collapsed": true
   },
   "outputs": [],
   "source": [
    "%pylab inline\n",
    "%matplotlib inline"
   ]
  },
  {
   "cell_type": "code",
   "execution_count": null,
   "metadata": {
    "collapsed": true
   },
   "outputs": [],
   "source": [
    "import numpy as np\n",
    "import matplolib as plt\n",
    "import time\n",
    "import os\n",
    "import torch\n",
    "import torchvision\n",
    "import torchvision.models as models\n",
    "import torch.nn as nn\n",
    "import torch.nn.functional as F\n",
    "from torch.autograd import Variable\n",
    "from torch import optim\n",
    "import cv2\n",
    "from torchvision import transforms\n",
    "from torchvision.utils import make_grid\n",
    "from collections import OrderedDict\n",
    "from PIL import Image,ImageOps\n",
    "import torch.optim as optim\n",
    "from src.models import VGG19\n",
    "from src import Utils\n",
    "from src.PatchMatch import PatchMatchOrig\n",
    "import scipy"
   ]
  },
  {
   "cell_type": "markdown",
   "metadata": {},
   "source": [
    "### Input Source & Reference"
   ]
  },
  {
   "cell_type": "code",
   "execution_count": null,
   "metadata": {
    "collapsed": true
   },
   "outputs": [],
   "source": []
  },
  {
   "cell_type": "markdown",
   "metadata": {},
   "source": [
    "### Process\n",
    "From S_6 = S_L+1 to S_1(Final Result)\n",
    "\n",
    "S,R\n",
    "-> Feature Domain [(from VGG 19 extract feature map = Fs Fr) -> NNF Search -> Mapping Function(optimize by PatchMatch alg.)\n",
    "->Image Domain[(with S down sample, BDS voted Guidance) -> Local Color Transfer -> ]"
   ]
  },
  {
   "cell_type": "code",
   "execution_count": null,
   "metadata": {
    "collapsed": true
   },
   "outputs": [],
   "source": []
  }
 ],
 "metadata": {
  "kernelspec": {
   "display_name": "Python 3",
   "language": "python",
   "name": "python3"
  },
  "language_info": {
   "codemirror_mode": {
    "name": "ipython",
    "version": 3
   },
   "file_extension": ".py",
   "mimetype": "text/x-python",
   "name": "python",
   "nbconvert_exporter": "python",
   "pygments_lexer": "ipython3",
   "version": "3.6.1"
  }
 },
 "nbformat": 4,
 "nbformat_minor": 2
}
